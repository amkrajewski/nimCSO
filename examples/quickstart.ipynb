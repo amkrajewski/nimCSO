{
 "cells": [
  {
   "cell_type": "markdown",
   "metadata": {},
   "source": [
    "## Quick Start Guide\n",
    "\n",
    "`nimCSO` is a high-performance tool implementing several methods for selecting components (data dimensions) in compositional datasets, which optimize the data availability and density for applications such as machine learning. Making said choice is a combinatorically hard problem for complex compositions existing in high-dimensional spaces due to the interdependency of components being present. \n",
    "\n",
    "It is an interdisciplinary tool applicable to any field where data is composed of a large number of independent components and their interaction is of interest in a modeling effort, including some everyday contexts. For instance, *\"Given 100 spices at the supermarket, which 20, 30, or 40 should I stock in my pantry to maximize the number of unique dishes I can spice according to recipe?\"*. Critically, this is not as simple as frequency-based selection because, e.g., *removing* less common nutmeg and cinnamon from your shopping list will *prevent* many recipes with the frequent vanilla, but won't affect those using black pepper.\n",
    "\n",
    "The purpose of this guide is to demonstrate some common use cases of `nimCSO` and go in a bit more into the details of how it could be used, but it is not by any means extensive. If something is not covered but you would like to see it here, please do not heasitate to open an issue on GitHub and let us know!"
   ]
  },
  {
   "cell_type": "markdown",
   "metadata": {},
   "source": [
    "### Dataset, Config, and Compilation\n",
    "To get started, let's first recap what we need to do to get `nimCSO` up and running.\n",
    "\n",
    "**1.** Install nim and dependencies, but **that's already done for you if you are in the Codespace!**. You can see what was run to get the environment set up in the [`Dockerfile`](../.devcontainer/Dockerfile).\n",
    "\n",
    "**2.** Create the dataset. For now, let's just use the example one (based on the [ULTERA Database](https://ultera.org)) that comes with the package. Relative to this notebook, the dataset is located at `../dataList.txt`. Let's have a look at the first few lines of the file to see what it looks like. For details, please consult the main `README` or online documentation."
   ]
  },
  {
   "cell_type": "code",
   "execution_count": 18,
   "metadata": {},
   "outputs": [
    {
     "name": "stdout",
     "output_type": "stream",
     "text": [
      "Al,Co,Cr,Cu,Fe,Ni\n",
      "Nb,Ta,Ti\n",
      "Co,Cr,Ni\n",
      "Al,Co,Cr,Fe,Mn,Ni\n",
      "Al,Co,Fe,Mo,Ni\n",
      "Hf,Nb,Ti,V\n",
      "Co,Cr,Fe,Nb,Ni\n",
      "Al,Co,Cr,Cu,Fe,Ni\n"
     ]
    }
   ],
   "source": [
    "!head -n 8 ../dataList.txt"
   ]
  },
  {
   "cell_type": "markdown",
   "metadata": {},
   "source": [
    "**3.** Now, we need to create task `config.yaml` file that will describe what we are doing and point to our data file. That was already done for you in the [`config.yaml`](config.yaml) file, but you are more than welcome to play and modify it."
   ]
  },
  {
   "cell_type": "markdown",
   "metadata": {},
   "source": [
    "**4.** Finally, we can run the `nimCSO` package to get the results. To do so, we will use one long command you can see below. Let's break it down:\n",
    "- `!` is a Jupyter Notebook magic command that allows us to run shell commands from within the notebook.\n",
    "\n",
    "- `nim` is the official Nim language compiler. \n",
    "\n",
    "- `c` instructs `nim` compiler to use `C` compiler to optimize and compile intermediate code. You can also use `cpp` to use `C++` compiler or `objc` to use `Objective-C` compiler. If you want, you can also compile directly with LLVM using [`nlvm`](https://github.com/arnetheduck/nlvm), but it isn't pre-installed for you here.\n",
    "\n",
    "- `-f` is a flag to force the compiler to compile everything, even if the code didn't change. We want this because `config.yaml`, which tells `nimCSO` how to write itself, is not tracked by the compiler, but is critical to the compilation process (see two point below).\n",
    "\n",
    "- `-d:release` is a flag that tells the compiler to optimize the code for release. You can also use `-d:debug` to compile the code with better debugging support, but it will be slower and it will not prevent bugs from happening. There is also `-d:danger` that will disable all runtime checks and run a bit faster, but you no longer get memory safety guarantees.\n",
    "\n",
    "- `-d:configPath=config.yaml` is a flag pointing to **`config.yaml` that is read and tells `nimCSO` (not the compiler!) how to write itself *before* the compilation starts.** That's the magic metaprogramming sauce enabling us to write functions which `C`/`C++` compiler can then turn into single deterministically allocated and exectuted machine code through [inlining](https://en.wikipedia.org/wiki/Inline_expansion).\n",
    "\n",
    "- `out:nimcso` is just telling the compiler to output the compiled binary right here and name it `nimcso`. You can name it whatever you want, but it's a good idea to name it something that makes sense.\n",
    "\n",
    "- `../src/nimcso` is pointing to the source code of `nimCSO` package to compile, relative to this notebook.\n",
    "\n",
    "Let's run the command and see what happens! Shouldn't take more than a few seconds."
   ]
  },
  {
   "cell_type": "code",
   "execution_count": 19,
   "metadata": {},
   "outputs": [
    {
     "name": "stdout",
     "output_type": "stream",
     "text": [
      "\u001b[1m\u001b[0m\u001b[32mHint: \u001b[0mused config file '/opt/conda/nim/config/nim.cfg'\u001b[36m [Conf]\u001b[0m\u001b[0m\n",
      "\u001b[1m\u001b[0m\u001b[32mHint: \u001b[0mused config file '/opt/conda/nim/config/config.nims'\u001b[36m [Conf]\u001b[0m\u001b[0m\n",
      "...........................................................................................................................................................\n",
      "\u001b[1m/root/.nimble/pkgs2/nimblas-0.3.0-d5033749759fc7a2a316acf623635dcb6d69d32a/nimblas/private/common.nim(52, 7) \u001b[0m\u001b[32mHint: \u001b[0mUsing BLAS library with name: lib(blas|cblas|openblas).so(||.3|.2|.1|.0)\u001b[36m [User]\u001b[0m\u001b[0m\n",
      "...........................................................................\n",
      "config.yaml\n",
      "CC: ../../../opt/conda/nim/lib/system/exceptions.nim\n",
      "CC: ../../../opt/conda/nim/lib/std/private/digitsutils.nim\n",
      "CC: ../../../opt/conda/nim/lib/std/assertions.nim\n",
      "CC: ../../../opt/conda/nim/lib/system/dollars.nim\n",
      "CC: ../../../opt/conda/nim/lib/std/syncio.nim\n",
      "CC: ../../../opt/conda/nim/lib/system.nim\n",
      "CC: ../../../opt/conda/nim/lib/pure/parseutils.nim\n",
      "CC: ../../../opt/conda/nim/lib/pure/math.nim\n",
      "CC: ../../../opt/conda/nim/lib/pure/unicode.nim\n",
      "CC: ../../../opt/conda/nim/lib/pure/strutils.nim\n",
      "CC: ../../../opt/conda/nim/lib/pure/hashes.nim\n",
      "CC: ../../../opt/conda/nim/lib/pure/collections/sets.nim\n",
      "CC: ../../../opt/conda/nim/lib/pure/times.nim\n",
      "CC: ../../../opt/conda/nim/lib/std/private/ospaths2.nim\n",
      "CC: ../../../opt/conda/nim/lib/std/envvars.nim\n",
      "CC: ../../../opt/conda/nim/lib/std/cmdline.nim\n",
      "CC: ../../../opt/conda/nim/lib/pure/collections/sequtils.nim\n",
      "CC: ../../../opt/conda/nim/lib/pure/random.nim\n",
      "CC: ../../../opt/conda/nim/lib/pure/collections/heapqueue.nim\n",
      "CC: ../../../opt/conda/nim/lib/pure/strformat.nim\n",
      "CC: ../../../opt/conda/nim/lib/pure/terminal.nim\n",
      "CC: ../../../root/.nimble/pkgs2/yaml-2.1.1-302727fcd74c79d0697a4e909d26455d61a5b979/yaml/presenter.nim\n",
      "CC: ../../../root/.nimble/pkgs2/arraymancer-0.7.28-d4a45ada1c7a6abebe60bcdd5ee2d7c4680799a4/arraymancer/laser/dynamic_stack_arrays.nim\n",
      "CC: ../../../root/.nimble/pkgs2/arraymancer-0.7.28-d4a45ada1c7a6abebe60bcdd5ee2d7c4680799a4/arraymancer/laser/private/memory.nim\n",
      "CC: ../../../root/.nimble/pkgs2/arraymancer-0.7.28-d4a45ada1c7a6abebe60bcdd5ee2d7c4680799a4/arraymancer/laser/tensor/datatypes.nim\n",
      "CC: ../../../root/.nimble/pkgs2/arraymancer-0.7.28-d4a45ada1c7a6abebe60bcdd5ee2d7c4680799a4/arraymancer/laser/tensor/initialization.nim\n",
      "CC: ../../../root/.nimble/pkgs2/arraymancer-0.7.28-d4a45ada1c7a6abebe60bcdd5ee2d7c4680799a4/arraymancer/tensor/init_cpu.nim\n",
      "CC: ../../../root/.nimble/pkgs2/arraymancer-0.7.28-d4a45ada1c7a6abebe60bcdd5ee2d7c4680799a4/arraymancer/tensor/higher_order_applymap.nim\n",
      "CC: ../../../root/.nimble/pkgs2/arraymancer-0.7.28-d4a45ada1c7a6abebe60bcdd5ee2d7c4680799a4/arraymancer/tensor/private/p_shapeshifting.nim\n",
      "CC: ../../../root/.nimble/pkgs2/arraymancer-0.7.28-d4a45ada1c7a6abebe60bcdd5ee2d7c4680799a4/arraymancer/tensor/init_copy_cpu.nim\n",
      "CC: ../../../root/.nimble/pkgs2/arraymancer-0.7.28-d4a45ada1c7a6abebe60bcdd5ee2d7c4680799a4/arraymancer/tensor/private/p_accessors_macros_read.nim\n",
      "CC: ../../../root/.nimble/pkgs2/arraymancer-0.7.28-d4a45ada1c7a6abebe60bcdd5ee2d7c4680799a4/arraymancer/tensor/private/p_accessors_macros_write.nim\n",
      "CC: ../../../root/.nimble/pkgs2/arraymancer-0.7.28-d4a45ada1c7a6abebe60bcdd5ee2d7c4680799a4/arraymancer/tensor/shapeshifting.nim\n",
      "CC: ../../../root/.nimble/pkgs2/arraymancer-0.7.28-d4a45ada1c7a6abebe60bcdd5ee2d7c4680799a4/arraymancer/private/functional.nim\n",
      "CC: ../../../root/.nimble/pkgs2/arraymancer-0.7.28-d4a45ada1c7a6abebe60bcdd5ee2d7c4680799a4/arraymancer/tensor/private/p_display.nim\n",
      "CC: ../../../root/.nimble/pkgs2/arraymancer-0.7.28-d4a45ada1c7a6abebe60bcdd5ee2d7c4680799a4/arraymancer/tensor/display.nim\n",
      "CC: ../../../root/.nimble/pkgs2/arraymancer-0.7.28-d4a45ada1c7a6abebe60bcdd5ee2d7c4680799a4/arraymancer/tensor/ufunc.nim\n",
      "CC: ../../../root/.nimble/pkgs2/arraymancer-0.7.28-d4a45ada1c7a6abebe60bcdd5ee2d7c4680799a4/arraymancer/laser/cpuinfo_x86.nim\n",
      "CC: ../../../root/.nimble/pkgs2/arraymancer-0.7.28-d4a45ada1c7a6abebe60bcdd5ee2d7c4680799a4/arraymancer/tensor/operators_broadcasted.nim\n",
      "CC: ../../../root/.nimble/pkgs2/arraymancer-0.7.28-d4a45ada1c7a6abebe60bcdd5ee2d7c4680799a4/arraymancer/tensor/aggregate.nim\n",
      "CC: nimcso/bitArrayAutoconfigured.nim\n",
      "CC: nimcso.nim\n",
      "\u001b[1m\u001b[0m\u001b[32mHint: \u001b[0m\u001b[36m [Link]\u001b[0m\u001b[0m\n",
      "\u001b[1m\u001b[0m\u001b[32mHint: \u001b[0mmm: orc; threads: on; opt: speed; options: -d:release\n",
      "87026 lines; 7.635s; 257.383MiB peakmem; proj: /workspaces/nimCSO/src/nimcso; out: /workspaces/nimCSO/examples/nimcso\u001b[36m [SuccessX]\u001b[0m\u001b[0m\n"
     ]
    }
   ],
   "source": [
    "!nim c -f -d:release -d:configPath=config.yaml --out:nimcso ../src/nimcso "
   ]
  },
  {
   "cell_type": "markdown",
   "metadata": {},
   "source": [
    "Now, let's run `nimCSO` and see what happens!"
   ]
  },
  {
   "cell_type": "code",
   "execution_count": 20,
   "metadata": {},
   "outputs": [
    {
     "name": "stdout",
     "output_type": "stream",
     "text": [
      "Using \u001b[1m\u001b[35m1 uint64s\u001b[0m to store \u001b[1m\u001b[35m19\u001b[0m elements.\u001b[0m\n",
      "Configured for task: \u001b[1m\u001b[35m\u001b[3mQuickStart\u001b[0m\u001b[2m\u001b[3m (Just a copy of RCCA Palette from Senkov 2018 Review)\u001b[0m\u001b[0m\n",
      "\u001b[32m***** nimCSO (Composition Space Optimization) *****\u001b[0m\u001b[0m\n",
      "To use from command line, provide parameters. Currently supported usage:\n",
      "\n",
      "--covBenchmark    | -cb   --> Run small coverage benchmarks under two implementations.\n",
      "--expBenchmark    | -eb   --> Run small node expansion benchmarks.\n",
      "--leastPreventing | -lp   --> Run a search for single-elements preventing the least data, i.e. the least common elements.\n",
      "--mostCommon      | -mc   --> Run a search for most common elements.\n",
      "--bruteForce      | -bf   --> Run brute force algorithm after getting ETA. Note that it is not feasible for more than 25ish elements.\n",
      "--bruteForceInt   | -bfi  --> Run brute force algorithm with faster but not extensible uint64 representation after getting ETA. Up to 64 elements only.\n",
      "--geneticSearch   | -gs   --> Run a genetic search algorithm.\n",
      "--algorithmSearch | -as   --> Run a custom problem-informed best-first search algorithm.\n",
      "--singleSolution  | -ss   --> Evaluate a single solution based on the elements provided as arguments after the flag. It can be stacked on itself like:\n",
      "                              ./nimcso -ss Ta W Hf Si  -ss V W Hf Si  --singleSolution Ta V\n",
      "\n",
      "\n"
     ]
    }
   ],
   "source": [
    "!./nimcso"
   ]
  },
  {
   "cell_type": "markdown",
   "metadata": {},
   "source": [
    "You should have seen a neat concise `help` message that tells you how to use `nimCSO`. Let's start with a \"coverage\" benchmark to see how fast can we check how many datapoints will be prevented (will have to be removed from the original dataset) if we remove the first 5 elements of `elementOrder`. By our earlier analogy to selecting spices in the supermarket, this corresponds to checking how many recipies you won't be able to properly spice if you decide not to buy the first 5 spices on your shopping list."
   ]
  },
  {
   "cell_type": "code",
   "execution_count": 4,
   "metadata": {},
   "outputs": [
    {
     "name": "stdout",
     "output_type": "stream",
     "text": [
      "Using \u001b[1m\u001b[35m1 uint64s\u001b[0m to store \u001b[1m\u001b[35m19\u001b[0m elements.\u001b[0m\n",
      "Configured for task: \u001b[1m\u001b[35m\u001b[3mQuickStart\u001b[0m\u001b[2m\u001b[3m (Just a copy of RCCA Palette from Senkov 2018 Review)\u001b[0m\u001b[0m\n",
      "\u001b[32m***** nimCSO (Composition Space Optimization) *****\u001b[0m\u001b[0m\n",
      "\u001b[34mRunning coverage benchmark with int8 Tensor representation\u001b[0m\u001b[0m\n",
      "Tensor[system.int8] of shape \"[1, 19]\" on backend \"Cpu\"\n",
      "|1      1     1     1     1     1     0     0     0     0     0     0     0     0     0     0     0     0     0|\n",
      "CPU Time [arraymancer+randomizing] \u001b[1m\u001b[32m133.6μs\u001b[0m\u001b[0m\n",
      "Prevented count:995\n",
      "\u001b[34m\n",
      "Running coverage benchmark with BitArray representation\u001b[0m\n",
      "CPU Time [bitty+randomizing] \u001b[1m\u001b[32m13.6μs\u001b[0m\u001b[0m\n",
      "\u001b[2m    \u001b[0m\u001b[2m\u001b[30m|\u001b[34m 1\u001b[0m\u001b[2m\u001b[30m|\u001b[34m 2\u001b[0m\u001b[2m\u001b[30m|\u001b[34m 3\u001b[0m\u001b[2m\u001b[30m|\u001b[34m 4\u001b[0m\u001b[2m\u001b[30m|\u001b[34m 5\u001b[0m\u001b[2m\u001b[30m|\u001b[34m 6\u001b[0m\u001b[2m\u001b[30m|\u001b[34m 7\u001b[0m\u001b[2m\u001b[30m|\u001b[34m 8\u001b[0m\u001b[2m\u001b[30m|\u001b[34m 9\u001b[0m\u001b[2m\u001b[30m|\u001b[34m10\u001b[0m\u001b[2m\u001b[30m|\u001b[34m11\u001b[0m\u001b[2m\u001b[30m|\u001b[34m12\u001b[0m\u001b[2m\u001b[30m|\u001b[34m13\u001b[0m\u001b[2m\u001b[30m|\u001b[34m14\u001b[0m\u001b[2m\u001b[30m|\u001b[34m15\u001b[0m\u001b[2m\u001b[30m|\u001b[34m16\u001b[0m\u001b[2m\u001b[30m|\u001b[34m17\u001b[0m\u001b[2m\u001b[30m|\u001b[34m18\u001b[0m\u001b[2m\u001b[30m|\u001b[34m19\u001b[0m\u001b[2m|\u001b[0m\n",
      "\u001b[2m 19 \u001b[0m\u001b[2m|\u001b[1m\u001b[32m 1\u001b[0m\u001b[2m|\u001b[1m\u001b[32m 1\u001b[0m\u001b[2m|\u001b[1m\u001b[32m 1\u001b[0m\u001b[2m|\u001b[1m\u001b[32m 1\u001b[0m\u001b[2m|\u001b[1m\u001b[32m 1\u001b[0m\u001b[2m|\u001b[1m\u001b[32m 1\u001b[0m\u001b[2m|\u001b[31m 0\u001b[0m\u001b[2m|\u001b[31m 0\u001b[0m\u001b[2m|\u001b[31m 0\u001b[0m\u001b[2m|\u001b[31m 0\u001b[0m\u001b[2m|\u001b[31m 0\u001b[0m\u001b[2m|\u001b[31m 0\u001b[0m\u001b[2m|\u001b[31m 0\u001b[0m\u001b[2m|\u001b[31m 0\u001b[0m\u001b[2m|\u001b[31m 0\u001b[0m\u001b[2m|\u001b[31m 0\u001b[0m\u001b[2m|\u001b[31m 0\u001b[0m\u001b[2m|\u001b[31m 0\u001b[0m\u001b[2m|\u001b[31m 0\u001b[0m\u001b[2m|\u001b[0m\n",
      "MoTaVWTiZr->995\n",
      "Prevented count:995\n",
      "\u001b[34m\n",
      "Running coverage benchmark with bool arrays representation (BitArray graph retained)\u001b[0m\u001b[0m\n",
      "CPU Time [bit&boolArrays+randomizing] \u001b[1m\u001b[32m16.1μs\u001b[0m\u001b[0m\n",
      "\u001b[2m    \u001b[0m\u001b[2m\u001b[30m|\u001b[34m 1\u001b[0m\u001b[2m\u001b[30m|\u001b[34m 2\u001b[0m\u001b[2m\u001b[30m|\u001b[34m 3\u001b[0m\u001b[2m\u001b[30m|\u001b[34m 4\u001b[0m\u001b[2m\u001b[30m|\u001b[34m 5\u001b[0m\u001b[2m\u001b[30m|\u001b[34m 6\u001b[0m\u001b[2m\u001b[30m|\u001b[34m 7\u001b[0m\u001b[2m\u001b[30m|\u001b[34m 8\u001b[0m\u001b[2m\u001b[30m|\u001b[34m 9\u001b[0m\u001b[2m\u001b[30m|\u001b[34m10\u001b[0m\u001b[2m\u001b[30m|\u001b[34m11\u001b[0m\u001b[2m\u001b[30m|\u001b[34m12\u001b[0m\u001b[2m\u001b[30m|\u001b[34m13\u001b[0m\u001b[2m\u001b[30m|\u001b[34m14\u001b[0m\u001b[2m\u001b[30m|\u001b[34m15\u001b[0m\u001b[2m\u001b[30m|\u001b[34m16\u001b[0m\u001b[2m\u001b[30m|\u001b[34m17\u001b[0m\u001b[2m\u001b[30m|\u001b[34m18\u001b[0m\u001b[2m\u001b[30m|\u001b[34m19\u001b[0m\u001b[2m|\u001b[0m\n",
      "\u001b[2m 19 \u001b[0m\u001b[2m|\u001b[1m\u001b[32m 1\u001b[0m\u001b[2m|\u001b[1m\u001b[32m 1\u001b[0m\u001b[2m|\u001b[1m\u001b[32m 1\u001b[0m\u001b[2m|\u001b[1m\u001b[32m 1\u001b[0m\u001b[2m|\u001b[1m\u001b[32m 1\u001b[0m\u001b[2m|\u001b[1m\u001b[32m 1\u001b[0m\u001b[2m|\u001b[31m 0\u001b[0m\u001b[2m|\u001b[31m 0\u001b[0m\u001b[2m|\u001b[31m 0\u001b[0m\u001b[2m|\u001b[31m 0\u001b[0m\u001b[2m|\u001b[31m 0\u001b[0m\u001b[2m|\u001b[31m 0\u001b[0m\u001b[2m|\u001b[31m 0\u001b[0m\u001b[2m|\u001b[31m 0\u001b[0m\u001b[2m|\u001b[31m 0\u001b[0m\u001b[2m|\u001b[31m 0\u001b[0m\u001b[2m|\u001b[31m 0\u001b[0m\u001b[2m|\u001b[31m 0\u001b[0m\u001b[2m|\u001b[31m 0\u001b[0m\u001b[2m|\u001b[0m\n",
      "MoTaVWTiZr->995\n",
      "Prevented count:995\n",
      "\u001b[32m\u001b[1m\n",
      "nimCSO Done!\u001b[0m\u001b[0m\n"
     ]
    }
   ],
   "source": [
    "!./nimcso -cb"
   ]
  },
  {
   "cell_type": "markdown",
   "metadata": {},
   "source": [
    "### Key Routines and Brute Forcing\n",
    "\n",
    "And if you were able to run that, you are all set to start using `nimCSO`!\n",
    "\n",
    "Let's try the simplest routine `mostCommon` or *What are the most common elements in the dataset?*"
   ]
  },
  {
   "cell_type": "code",
   "execution_count": 5,
   "metadata": {},
   "outputs": [
    {
     "name": "stdout",
     "output_type": "stream",
     "text": [
      "Using \u001b[1m\u001b[35m1 uint64s\u001b[0m to store \u001b[1m\u001b[35m19\u001b[0m elements.\u001b[0m\n",
      "Configured for task: \u001b[1m\u001b[35m\u001b[3mQuickStart\u001b[0m\u001b[2m\u001b[3m (Just a copy of RCCA Palette from Senkov 2018 Review)\u001b[0m\u001b[0m\n",
      "\u001b[32m***** nimCSO (Composition Space Optimization) *****\u001b[0m\u001b[0m\n",
      "\n",
      "Running search for single-elements preventing the most data.\n",
      "\u001b[1m\u001b[34m 0: \u001b[0m\u001b[32mCr->667\u001b[0m\u001b[0m\n",
      "\u001b[1m\u001b[34m 1: \u001b[0m\u001b[32mTi->649\u001b[0m\u001b[0m\n",
      "\u001b[1m\u001b[34m 2: \u001b[0m\u001b[32mFe->622\u001b[0m\u001b[0m\n",
      "\u001b[1m\u001b[34m 3: \u001b[0m\u001b[32mNi->620\u001b[0m\u001b[0m\n",
      "\u001b[1m\u001b[34m 4: \u001b[0m\u001b[32mNb->587\u001b[0m\u001b[0m\n",
      "\u001b[1m\u001b[34m 5: \u001b[0m\u001b[32mCo->573\u001b[0m\u001b[0m\n",
      "\u001b[1m\u001b[34m 6: \u001b[0m\u001b[32mAl->569\u001b[0m\u001b[0m\n",
      "\u001b[1m\u001b[34m 7: \u001b[0m\u001b[32mMo->466\u001b[0m\u001b[0m\n",
      "\u001b[1m\u001b[34m 8: \u001b[0m\u001b[32mZr->346\u001b[0m\u001b[0m\n",
      "\u001b[1m\u001b[34m 9: \u001b[0m\u001b[32mTa->330\u001b[0m\u001b[0m\n",
      "\u001b[1m\u001b[34m10: \u001b[0m\u001b[32mV->256\u001b[0m\u001b[0m\n",
      "\u001b[1m\u001b[34m11: \u001b[0m\u001b[32mHf->219\u001b[0m\u001b[0m\n",
      "\u001b[1m\u001b[34m12: \u001b[0m\u001b[32mW->207\u001b[0m\u001b[0m\n",
      "\u001b[1m\u001b[34m13: \u001b[0m\u001b[32mSi->92\u001b[0m\u001b[0m\n",
      "\u001b[1m\u001b[34m14: \u001b[0m\u001b[32mB->69\u001b[0m\u001b[0m\n",
      "\u001b[1m\u001b[34m15: \u001b[0m\u001b[32mRe->55\u001b[0m\u001b[0m\n",
      "\u001b[1m\u001b[34m16: \u001b[0m\u001b[32mC->36\u001b[0m\u001b[0m\n",
      "\u001b[1m\u001b[34m17: \u001b[0m\u001b[32mY->3\u001b[0m\u001b[0m\n",
      "\u001b[1m\u001b[34m18: \u001b[0m\u001b[32mN->1\u001b[0m\u001b[0m\n",
      "\u001b[32m\u001b[1m\n",
      "nimCSO Done!\u001b[0m\u001b[0m\n"
     ]
    }
   ],
   "source": [
    "!./nimcso --mostCommon"
   ]
  },
  {
   "cell_type": "markdown",
   "metadata": {},
   "source": [
    "If you didn't modify anything, you should now see that elements like `N`, `Y`, `C`, and `Re`, are not very common in the dataset, while `Cr`, `Ti`, `Fe`, and `Ni` are very common. When it comes to them, it's pretty obvious that removing the first group will be the first choice, while the latter will be the last, if we want to keep the dataset as extensive as possible.\n",
    "\n",
    "The critical question here is, *which of the intermediate elements like `Hf`, `V`, `Ta`, or `Zr` should we remove first?*\n",
    "\n",
    "With a dataset spanning 19 elements, the solution space is around 0.5M, so we can actually just brute force it in seconds :)"
   ]
  },
  {
   "cell_type": "code",
   "execution_count": 6,
   "metadata": {},
   "outputs": [
    {
     "name": "stdout",
     "output_type": "stream",
     "text": [
      "Using \u001b[1m\u001b[35m1 uint64s\u001b[0m to store \u001b[1m\u001b[35m19\u001b[0m elements.\u001b[0m\n",
      "Configured for task: \u001b[1m\u001b[35m\u001b[3mQuickStart\u001b[0m\u001b[2m\u001b[3m (Just a copy of RCCA Palette from Senkov 2018 Review)\u001b[0m\u001b[0m\n",
      "\u001b[32m***** nimCSO (Composition Space Optimization) *****\u001b[0m\u001b[0m\n",
      "\n",
      "Running brute force algorithm for \u001b[1m\u001b[35m19\u001b[0m elements and \u001b[1m\u001b[35m1349 data points.\u001b[0m\n",
      "Solution space size: \u001b[1m\u001b[35m524287\u001b[0m\u001b[0m\n",
      "Task ETA Estimate: \u001b[1m\u001b[35m7 seconds and 30 milliseconds\u001b[0m\u001b[0m\n",
      "\u001b[1m\u001b[34m 0: \u001b[0m\u001b[32m->0\u001b[0m\u001b[0m\n",
      "\u001b[1m\u001b[34m 1: \u001b[0m\u001b[32mN->1\u001b[0m\u001b[0m\n",
      "\u001b[1m\u001b[34m 2: \u001b[0m\u001b[32mYN->4\u001b[0m\u001b[0m\n",
      "\u001b[1m\u001b[34m 3: \u001b[0m\u001b[32mYCN->39\u001b[0m\u001b[0m\n",
      "\u001b[1m\u001b[34m 4: \u001b[0m\u001b[32mReYCN->89\u001b[0m\u001b[0m\n",
      "\u001b[1m\u001b[34m 5: \u001b[0m\u001b[32mReYBCN->142\u001b[0m\u001b[0m\n",
      "\u001b[1m\u001b[34m 6: \u001b[0m\u001b[32mSiReYBCN->203\u001b[0m\u001b[0m\n",
      "\u001b[1m\u001b[34m 7: \u001b[0m\u001b[32mWSiReYBCN->340\u001b[0m\u001b[0m\n",
      "\u001b[1m\u001b[34m 8: \u001b[0m\u001b[32mWHfSiReYBCN->511\u001b[0m\u001b[0m\n",
      "\u001b[1m\u001b[34m 9: \u001b[0m\u001b[32mTaWHfSiReYBCN->630\u001b[0m\u001b[0m\n",
      "\u001b[1m\u001b[34m10: \u001b[0m\u001b[32mTaWZrHfSiReYBCN->735\u001b[0m\u001b[0m\n",
      "\u001b[1m\u001b[34m11: \u001b[0m\u001b[32mTaVWZrHfSiReYBCN->816\u001b[0m\u001b[0m\n",
      "\u001b[1m\u001b[34m12: \u001b[0m\u001b[32mTaVWZrHfNbSiReYBCN->859\u001b[0m\u001b[0m\n",
      "\u001b[1m\u001b[34m13: \u001b[0m\u001b[32mTaVWTiZrHfNbSiReYBCN->952\u001b[0m\u001b[0m\n",
      "\u001b[1m\u001b[34m14: \u001b[0m\u001b[32mMoTaVWTiZrHfNbSiReYBCN->1038\u001b[0m\u001b[0m\n",
      "\u001b[1m\u001b[34m15: \u001b[0m\u001b[32mMoTaVWTiZrHfNbAlSiReYBCN->1304\u001b[0m\u001b[0m\n",
      "\u001b[1m\u001b[34m16: \u001b[0m\u001b[32mTaVWTiZrHfNbCrAlCoNiReFeYCN->1327\u001b[0m\u001b[0m\n",
      "\u001b[1m\u001b[34m17: \u001b[0m\u001b[32mMoTaVWTiZrHfNbCrAlSiCoNiReFeYB->1349\u001b[0m\u001b[0m\n",
      "\u001b[1m\u001b[34m18: \u001b[0m\u001b[32mMoTaVWTiZrHfNbCrAlSiCoNiReFeYBC->1349\u001b[0m\u001b[0m\n",
      "\u001b[1m\u001b[34m19: \u001b[0m\u001b[32mMoTaVWTiZrHfNbCrAlSiCoNiReFeYBCN->1349\u001b[0m\u001b[0m\n",
      "CPU Time [Brute Force] \u001b[1m\u001b[32m7308.5ms\u001b[0m\u001b[0m\n",
      "\u001b[32m\u001b[1m\n",
      "nimCSO Done!\u001b[0m\u001b[0m\n"
     ]
    }
   ],
   "source": [
    "!./nimcso -bfi"
   ]
  },
  {
   "cell_type": "markdown",
   "metadata": {},
   "source": [
    "Let's look at the result! As expected, `N`, `Y`, `C`, and `Re` are removed first (0-4) and then the trend follows for a bit to `Hf` **The first break is `V`, you can notice that it's better to remove either or both `Ta` or `Zr` first, despite the fact that they are nearly 50% more common than `V`!** That's because they often coocur with `Re` and `Hf`, which are not common.\n",
    "\n",
    "By our earlier analogy to selecting spices in the supermarket, we already removed nutmeg and cinnamon from our shopping list so if we want to maximize the number of recipies we can fulfill, it's better to buy black pepper than more common vanilla.\n",
    "\n",
    "We can test exactly how much more data we will have if we remove `Ta` insead of `V` by using the `--singleSolution` / `-ss` routine."
   ]
  },
  {
   "cell_type": "code",
   "execution_count": 10,
   "metadata": {},
   "outputs": [
    {
     "name": "stdout",
     "output_type": "stream",
     "text": [
      "Using \u001b[1m\u001b[35m1 uint64s\u001b[0m to store \u001b[1m\u001b[35m19\u001b[0m elements.\u001b[0m\n",
      "Configured for task: \u001b[1m\u001b[35m\u001b[3mQuickStart\u001b[0m\u001b[2m\u001b[3m (Just a copy of RCCA Palette from Senkov 2018 Review)\u001b[0m\u001b[0m\n",
      "\u001b[32m***** nimCSO (Composition Space Optimization) *****\u001b[0m\u001b[0m\n",
      "Testing solution with \u001b[1m\u001b[35m@[@[\"Ta\", \"W\", \"Hf\", \"Si\", \"Re\", \"Y\", \"B\", \"C\", \"N\"], @[\"V\", \"W\", \"Hf\", \"Si\", \"Re\", \"Y\", \"B\", \"C\", \"N\"]]\u001b[0m\u001b[0m\n",
      "\u001b[1m\u001b[34m 9: \u001b[0m\u001b[32mTaWHfSiReYBCN->630\u001b[0m\u001b[0m\n",
      "\u001b[1m\u001b[34m 9: \u001b[0m\u001b[32mVWHfSiReYBCN->697\u001b[0m\u001b[0m\n",
      "\u001b[32m\u001b[1m\n",
      "nimCSO Done!\u001b[0m\u001b[0m\n"
     ]
    }
   ],
   "source": [
    "!./nimcso -ss Ta W Hf Si Re Y B C N -ss V W Hf Si Re Y B C N"
   ]
  },
  {
   "cell_type": "markdown",
   "metadata": {},
   "source": [
    "Wow! Looking at the `--mostCommon` output from earlier, we can see that **`Ta` is present in 74 more datapoints than `V`, but after removing `WHfSiReYBCN`, picking `V` as one of 10 elements to model will result in 67 *more* datapoints.** Relative to a dataset without interdependencies, that's a 141 datapoint difference!"
   ]
  },
  {
   "cell_type": "markdown",
   "metadata": {},
   "source": [
    "And another case that breaks from the ordering is `Mo`, which is better to keep than much more common `Nb`, and after `Nb` is removed, even better thank keeping the `Ti`, which is the second most common element in the dataset!\n",
    "\n",
    "Similarly to what we did with `V` vs. `Ta`, we can test how much more data we will have if we remove `Nb` instead of `Mo` by using the `--singleSolution` / `-ss` routine."
   ]
  },
  {
   "cell_type": "code",
   "execution_count": 12,
   "metadata": {},
   "outputs": [
    {
     "name": "stdout",
     "output_type": "stream",
     "text": [
      "Using \u001b[1m\u001b[35m1 uint64s\u001b[0m to store \u001b[1m\u001b[35m19\u001b[0m elements.\u001b[0m\n",
      "Configured for task: \u001b[1m\u001b[35m\u001b[3mQuickStart\u001b[0m\u001b[2m\u001b[3m (Just a copy of RCCA Palette from Senkov 2018 Review)\u001b[0m\u001b[0m\n",
      "\u001b[32m***** nimCSO (Composition Space Optimization) *****\u001b[0m\u001b[0m\n",
      "Testing solution with \u001b[1m\u001b[35m@[@[\"Ta\", \"V\", \"W\", \"Zr\", \"Hf\", \"Nb\", \"Si\", \"Re\", \"Y\", \"B\", \"C\", \"N\"], @[\"Ta\", \"V\", \"W\", \"Zr\", \"Hf\", \"Mo\", \"Si\", \"Re\", \"Y\", \"B\", \"C\", \"N\"], @[\"Ta\", \"V\", \"W\", \"Zr\", \"Hf\", \"Ti\", \"Si\", \"Re\", \"Y\", \"B\", \"C\", \"N\"]]\u001b[0m\u001b[0m\n",
      "\u001b[1m\u001b[34m12: \u001b[0m\u001b[32mTaVWZrHfNbSiReYBCN->859\u001b[0m\u001b[0m\n",
      "\u001b[1m\u001b[34m12: \u001b[0m\u001b[32mMoTaVWZrHfSiReYBCN->935\u001b[0m\u001b[0m\n",
      "\u001b[1m\u001b[34m12: \u001b[0m\u001b[32mTaVWTiZrHfSiReYBCN->938\u001b[0m\u001b[0m\n",
      "\u001b[32m\u001b[1m\n",
      "nimCSO Done!\u001b[0m\u001b[0m\n"
     ]
    }
   ],
   "source": [
    "!./nimcso -ss Ta V W Zr Hf Nb Si Re Y B C N -ss Ta V W Zr Hf Mo Si Re Y B C N -ss Ta V W Zr Hf Ti Si Re Y B C N"
   ]
  },
  {
   "cell_type": "markdown",
   "metadata": {},
   "source": [
    "We can see that **`Nb` is present in 121 more datapoints than `Mo`, but after removing `TaVWZrHfSiReYBCN`, picking `Mo` as one of 7 elements to model will result in 76 *more* datapoints.** Relative to a dataset without interdependencies, that's a 197 datapoint difference, which is even more than the `Ta` vs. `V` case! Additionally, we can see that `Ti` is only 3 datapoints better than `Mo`, despite being present in 183 more datapoints than `Mo`."
   ]
  },
  {
   "cell_type": "markdown",
   "metadata": {},
   "source": [
    "### Algorithm Search\n",
    "\n",
    "The `--bruteForceInt`/`-bfi` routine we used to find the solutions worked great for our 19-element dataset and took only a few seconds on the low-performance Codespace machine, but in many cases dimensionality of the problem will be too high to brute force it.\n",
    "\n",
    "Let's now try to use the `--algorithmSearch`/`-as` routine, which takes advantage of some assumptions known to be valid or likely to be valid (see manuscript), to limit the search space and find the solution in a reasonable time. Let's try it now!"
   ]
  },
  {
   "cell_type": "code",
   "execution_count": 16,
   "metadata": {},
   "outputs": [
    {
     "name": "stdout",
     "output_type": "stream",
     "text": [
      "Using \u001b[1m\u001b[35m1 uint64s\u001b[0m to store \u001b[1m\u001b[35m19\u001b[0m elements.\u001b[0m\n",
      "Configured for task: \u001b[1m\u001b[35m\u001b[3mQuickStart\u001b[0m\u001b[2m\u001b[3m (Just a copy of RCCA Palette from Senkov 2018 Review)\u001b[0m\u001b[0m\n",
      "\u001b[32m***** nimCSO (Composition Space Optimization) *****\u001b[0m\u001b[0m\n",
      "\n",
      "Running Algorithm Search for \u001b[1m\u001b[35m19\u001b[0m elements.\u001b[0m\n",
      "\u001b[1m\u001b[34m 1: \u001b[0m\u001b[32mN->1\u001b[2m\u001b[30m  (tree size: 19)\u001b[0m\u001b[0m\n",
      "\u001b[1m\u001b[34m 2: \u001b[0m\u001b[32mYN->4\u001b[2m\u001b[30m  (tree size: 52)\u001b[0m\u001b[0m\n",
      "\u001b[1m\u001b[34m 3: \u001b[0m\u001b[32mYCN->39\u001b[2m\u001b[30m  (tree size: 113)\u001b[0m\u001b[0m\n",
      "\u001b[1m\u001b[34m 4: \u001b[0m\u001b[32mReYCN->89\u001b[2m\u001b[30m  (tree size: 275)\u001b[0m\u001b[0m\n",
      "\u001b[1m\u001b[34m 5: \u001b[0m\u001b[32mReYBCN->142\u001b[2m\u001b[30m  (tree size: 581)\u001b[0m\u001b[0m\n",
      "\u001b[1m\u001b[34m 6: \u001b[0m\u001b[32mSiReYBCN->203\u001b[2m\u001b[30m  (tree size: 690)\u001b[0m\u001b[0m\n",
      "\u001b[1m\u001b[34m 7: \u001b[0m\u001b[32mWSiReYBCN->340\u001b[2m\u001b[30m  (tree size: 1818)\u001b[0m\u001b[0m\n",
      "\u001b[1m\u001b[34m 8: \u001b[0m\u001b[32mWHfSiReYBCN->511\u001b[2m\u001b[30m  (tree size: 3873)\u001b[0m\u001b[0m\n",
      "\u001b[1m\u001b[34m 9: \u001b[0m\u001b[32mTaWHfSiReYBCN->630\u001b[2m\u001b[30m  (tree size: 5213)\u001b[0m\u001b[0m\n",
      "\u001b[1m\u001b[34m10: \u001b[0m\u001b[32mTaWZrHfSiReYBCN->735\u001b[2m\u001b[30m  (tree size: 4833)\u001b[0m\u001b[0m\n",
      "\u001b[1m\u001b[34m11: \u001b[0m\u001b[32mTaVWZrHfSiReYBCN->816\u001b[2m\u001b[30m  (tree size: 4192)\u001b[0m\u001b[0m\n",
      "\u001b[1m\u001b[34m12: \u001b[0m\u001b[32mTaVWZrHfNbSiReYBCN->859\u001b[2m\u001b[30m  (tree size: 3784)\u001b[0m\u001b[0m\n",
      "\u001b[1m\u001b[34m13: \u001b[0m\u001b[32mTaVWTiZrHfNbSiReYBCN->952\u001b[2m\u001b[30m  (tree size: 2955)\u001b[0m\u001b[0m\n",
      "\u001b[1m\u001b[34m14: \u001b[0m\u001b[32mMoTaVWTiZrHfNbSiReYBCN->1038\u001b[2m\u001b[30m  (tree size: 1765)\u001b[0m\u001b[0m\n",
      "\u001b[1m\u001b[34m15: \u001b[0m\u001b[32mMoTaVWTiZrHfNbAlSiReYBCN->1304\u001b[2m\u001b[30m  (tree size: 45)\u001b[0m\u001b[0m\n",
      "\u001b[1m\u001b[34m16: \u001b[0m\u001b[32mMoTaVWTiZrHfNbAlSiReFeYBCN->1338\u001b[2m\u001b[30m  (tree size: 8)\u001b[0m\u001b[0m\n",
      "\u001b[1m\u001b[34m17: \u001b[0m\u001b[32mMoTaVWTiZrHfNbCrAlSiReFeYBCN->1349\u001b[2m\u001b[30m  (tree size: 4)\u001b[0m\u001b[0m\n",
      "\u001b[1m\u001b[34m18: \u001b[0m\u001b[32mMoTaVWTiZrHfNbCrAlSiNiReFeYBCN->1349\u001b[2m\u001b[30m  (tree size: 4)\u001b[0m\u001b[0m\n",
      "CPU Time [exploring] \u001b[1m\u001b[32m109.7ms\u001b[0m\u001b[0m\n",
      "\u001b[32m\u001b[1m\n",
      "nimCSO Done!\u001b[0m\u001b[0m\n"
     ]
    }
   ],
   "source": [
    "!./nimcso -as"
   ]
  },
  {
   "cell_type": "markdown",
   "metadata": {},
   "source": [
    "As you can see, **the algorithm reproduced the same results as the brute force search around 100 times faster**, except for third-to-last step because dataset had points with at least 3 elements breaking its backtracking assumptions."
   ]
  },
  {
   "cell_type": "markdown",
   "metadata": {},
   "source": [
    "### Genetic Search\n",
    "\n",
    "For cases where the dimensionality of the problem is too high to either brute-force or use the algorithm search, we can still use the `--geneticSearch`/`-gs` routine to find the solution in a reasonable time. Let's try it now!"
   ]
  },
  {
   "cell_type": "code",
   "execution_count": 17,
   "metadata": {},
   "outputs": [
    {
     "name": "stdout",
     "output_type": "stream",
     "text": [
      "Using \u001b[1m\u001b[35m1 uint64s\u001b[0m to store \u001b[1m\u001b[35m19\u001b[0m elements.\u001b[0m\n",
      "Configured for task: \u001b[1m\u001b[35m\u001b[3mQuickStart\u001b[0m\u001b[2m\u001b[3m (Just a copy of RCCA Palette from Senkov 2018 Review)\u001b[0m\u001b[0m\n",
      "\u001b[32m***** nimCSO (Composition Space Optimization) *****\u001b[0m\u001b[0m\n",
      "\n",
      "Running Genetic Search algorithm for \u001b[1m\u001b[35m19\u001b[0m elements and \u001b[1m\u001b[35m1349 data points.\u001b[0m\n",
      "Initiating each level with \u001b[1m\u001b[35m100\u001b[0m random solutions and expanding \u001b[1m\u001b[35m100\u001b[0m solutions at each level for up to \u001b[1m\u001b[35m1000\u001b[0m iterations.\u001b[0m\n",
      "\u001b[1m\u001b[34m 1: \u001b[0m\u001b[32mN->1\u001b[0m\u001b[0m\n",
      "\u001b[1m\u001b[34m 2: \u001b[0m\u001b[32mYN->4\u001b[2m\u001b[30m  (queue size: 256)\u001b[0m\u001b[0m\n",
      "\u001b[1m\u001b[34m 3: \u001b[0m\u001b[32mYCN->39\u001b[2m\u001b[30m  (queue size: 615)\u001b[0m\u001b[0m\n",
      "\u001b[1m\u001b[34m 4: \u001b[0m\u001b[32mReYCN->89\u001b[2m\u001b[30m  (queue size: 869)\u001b[0m\u001b[0m\n",
      "\u001b[1m\u001b[34m 5: \u001b[0m\u001b[32mReYBCN->142\u001b[2m\u001b[30m  (queue size: 929)\u001b[0m\u001b[0m\n",
      "\u001b[1m\u001b[34m 6: \u001b[0m\u001b[32mSiReYBCN->203\u001b[2m\u001b[30m  (queue size: 1379)\u001b[0m\u001b[0m\n",
      "\u001b[1m\u001b[34m 7: \u001b[0m\u001b[32mWSiReYBCN->340\u001b[2m\u001b[30m  (queue size: 1267)\u001b[0m\u001b[0m\n",
      "\u001b[1m\u001b[34m 8: \u001b[0m\u001b[32mWHfSiReYBCN->511\u001b[2m\u001b[30m  (queue size: 1631)\u001b[0m\u001b[0m\n",
      "\u001b[1m\u001b[34m 9: \u001b[0m\u001b[32mTaWHfSiReYBCN->630\u001b[2m\u001b[30m  (queue size: 1578)\u001b[0m\u001b[0m\n",
      "\u001b[1m\u001b[34m10: \u001b[0m\u001b[32mTaWZrHfSiReYBCN->735\u001b[2m\u001b[30m  (queue size: 1835)\u001b[0m\u001b[0m\n",
      "\u001b[1m\u001b[34m11: \u001b[0m\u001b[32mTaVWZrHfSiReYBCN->816\u001b[2m\u001b[30m  (queue size: 1621)\u001b[0m\u001b[0m\n",
      "\u001b[1m\u001b[34m12: \u001b[0m\u001b[32mTaVWZrHfNbSiReYBCN->859\u001b[2m\u001b[30m  (queue size: 1746)\u001b[0m\u001b[0m\n",
      "\u001b[1m\u001b[34m13: \u001b[0m\u001b[32mVWCrAlSiCoNiReFeYBCN->1176\u001b[2m\u001b[30m  (queue size: 1713)\u001b[0m\u001b[0m\n",
      "\u001b[1m\u001b[34m14: \u001b[0m\u001b[32mMoTaVWTiZrHfNbSiReYBCN->1038\u001b[2m\u001b[30m  (queue size: 1565)\u001b[0m\u001b[0m\n",
      "\u001b[1m\u001b[34m15: \u001b[0m\u001b[32mMoTaVWCrAlSiCoNiReFeYBCN->1320\u001b[2m\u001b[30m  (queue size: 1028)\u001b[0m\u001b[0m\n",
      "\u001b[1m\u001b[34m16: \u001b[0m\u001b[32mTaVWTiZrHfNbCrAlCoNiReFeYCN->1327\u001b[2m\u001b[30m  (queue size: 1575)\u001b[0m\u001b[0m\n",
      "\u001b[1m\u001b[34m17: \u001b[0m\u001b[32mMoTaVWTiZrHfNbCrAlSiCoFeYBCN->1349\u001b[2m\u001b[30m  (queue size: 268)\u001b[0m\u001b[0m\n",
      "\u001b[1m\u001b[34m18: \u001b[0m\u001b[32mMoTaVWTiZrHfNbCrAlSiCoNiReFeBCN->1349\u001b[2m\u001b[30m  (queue size: 18)\u001b[0m\u001b[0m\n",
      "CPU Time [Genetic Search] \u001b[1m\u001b[32m766.9ms\u001b[0m\u001b[0m\n",
      "\u001b[32m\u001b[1m\n",
      "nimCSO Done!\u001b[0m\u001b[0m\n"
     ]
    }
   ],
   "source": [
    "!./nimcso -gs"
   ]
  },
  {
   "cell_type": "markdown",
   "metadata": {},
   "source": [
    "Please note that the results are stochastic, so you might get different results than ones shown below if you run the command again."
   ]
  },
  {
   "cell_type": "markdown",
   "metadata": {},
   "source": [
    "## Summary\n",
    "\n",
    "Now, you should be able to apply `nimCSO` to your own dataset and get some valuable insights on how to model it!\n",
    "\n",
    "If you are working in a Codespace, you can just do everything right in this notebook by simply modifying the `config.yaml` file and running the commands you just learned about. The Codespace will be persisted until you explicitly delete it, so you can come back to it later and continue your work by clicking on the link in the \"Open in Codespaces\" badge in the README of the repository and resuming your work."
   ]
  }
 ],
 "metadata": {
  "kernelspec": {
   "display_name": "base",
   "language": "python",
   "name": "python3"
  },
  "language_info": {
   "codemirror_mode": {
    "name": "ipython",
    "version": 3
   },
   "file_extension": ".py",
   "mimetype": "text/x-python",
   "name": "python",
   "nbconvert_exporter": "python",
   "pygments_lexer": "ipython3",
   "version": "3.11.8"
  }
 },
 "nbformat": 4,
 "nbformat_minor": 2
}
